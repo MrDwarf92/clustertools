{
 "cells": [
  {
   "cell_type": "markdown",
   "id": "aa8390a6-32f5-4b66-80af-51bfdf0be664",
   "metadata": {},
   "source": [
    "# Cluster analysis tool\n",
    "Author: Stefan Zeisl, Version: 2.0\n",
    "\n",
    "This tool allows you to select a CSV file from an IVAS cluster analysis export and perform a cluster analysis!\n",
    "\n",
    "### Select file, select your phases and options and press Start.\n",
    "It is important that each file only contains ONE type of precipiate. Otherwise the calculations will be wrong."
   ]
  },
  {
   "cell_type": "code",
   "execution_count": 9,
   "id": "53e6e991-d2f2-4bd0-8b59-f975c52337ac",
   "metadata": {
    "deletable": false,
    "editable": false,
    "jupyter": {
     "source_hidden": true
    },
    "tags": []
   },
   "outputs": [
    {
     "data": {
      "application/vnd.jupyter.widget-view+json": {
       "model_id": "a85faf29c6914f089bb8993d157bc65d",
       "version_major": 2,
       "version_minor": 0
      },
      "text/plain": [
       "FileUpload(value={}, accept='.csv', description='Upload a CSV file with cluster analysis data: ', layout=Layou…"
      ]
     },
     "metadata": {},
     "output_type": "display_data"
    },
    {
     "data": {
      "application/vnd.jupyter.widget-view+json": {
       "model_id": "fa9755c25653440094b74dc6ab424fc4",
       "version_major": 2,
       "version_minor": 0
      },
      "text/plain": [
       "VBox(children=(Accordion(children=(HBox(children=(VBox(children=(Label(value='Precipitate phase'), Dropdown(op…"
      ]
     },
     "metadata": {},
     "output_type": "display_data"
    },
    {
     "data": {
      "application/vnd.jupyter.widget-view+json": {
       "model_id": "68fbd35df1cb4127b5e5d42cfd79c039",
       "version_major": 2,
       "version_minor": 0
      },
      "text/plain": [
       "Button(description='Start', style=ButtonStyle(button_color='orange'))"
      ]
     },
     "metadata": {},
     "output_type": "display_data"
    },
    {
     "data": {
      "application/vnd.jupyter.widget-view+json": {
       "model_id": "7d3dddb7314b456f9389ea6f3d161f90",
       "version_major": 2,
       "version_minor": 0
      },
      "text/plain": [
       "Output()"
      ]
     },
     "metadata": {},
     "output_type": "display_data"
    }
   ],
   "source": [
    "import ipywidgets as widget\n",
    "from IPython.core.display import display, HTML, clear_output\n",
    "from main import ClusterCalcMain\n",
    "from cluster_analysis_base import ClusterAnalysis\n",
    "from distance import calculate_mean_distance\n",
    "\n",
    "style = {'description_width':'auto'}\n",
    "layout={'width': 'auto'}\n",
    "uploader = widget.FileUpload(description=\"Upload a CSV file with cluster analysis data: \",accept='.csv',style=style,layout=layout,multiple=False)\n",
    "ccm = ClusterCalcMain()\n",
    "display(uploader)\n",
    "\n",
    "\n",
    "###############Precipiate and Matrix phase UI###############\n",
    "style = {'description_width':'initial'}\n",
    "\n",
    "##Filling up\n",
    "matrix_list = ccm.get_matrix_list()\n",
    "matrix = widget.Dropdown(options=matrix_list['Display'])\n",
    "phase_list = ccm.get_phase_list()\n",
    "phase = widget.Dropdown(options=phase_list['Display'])\n",
    "\n",
    "##Boxes\n",
    "vb_matrix = widget.VBox([widget.Label(\"Matrix phase\"), matrix])\n",
    "vb_phase = widget.VBox([widget.Label(\"Precipitate phase\"), phase])\n",
    "hb_phases = widget.HBox([vb_phase, vb_matrix])\n",
    "############################################################\n",
    "\n",
    "###############Additional settings UI#######################\n",
    "##Bimodal UI\n",
    "is_bimodal = widget.Checkbox(description=\"Separate results?\",value=False, disabled=False,style=style)\n",
    "bimodal_value = widget.FloatSlider(description=\"Diameter separation value\",min=0,max=50,disabled=False,style=style,layout={'width':'35em'})\n",
    "vb_bimodal = widget.VBox([widget.HTML(\"<b>Separate by diameter</b>\"), widget.Label(\"Allows you to calculate two different statistics separated by precipitate diameter (for bimodal distributions):\"), \n",
    "                          widget.HBox([is_bimodal, bimodal_value])])\n",
    "\n",
    "##Interprecipitate distance option\n",
    "is_distance = widget.Checkbox(description=\"Calculate inter-precipitate distance?\",value=False, disabled=False,style=style)\n",
    "vb_distance = widget.VBox([widget.HTML(\"<b>Inter-precipitate distance</b>\"),widget.Label(\"Allows you to calculate the mean distance between the precipitates. This feature is still experimental and may produce incorrect results, especially if clusters are \\\"touching\\\" each other.\"),is_distance])\n",
    "\n",
    "##Size distribution option\n",
    "is_sizedist = widget.Checkbox(description=\"Display size distribution?\",value=False, disabled=False,style=style)\n",
    "size_slider = widget.IntSlider(description=\"Number of bins\",min=0,max=100,value=20,disabled=False,style=style,layout={'width':'30em'})\n",
    "vb_size=widget.VBox([widget.HTML(\"<b>Size distribution</b>\"),widget.Label(\"Displays a graph showing the distribution of the precipitate diameter and length.\",layout=layout,style=style),widget.HBox([is_sizedist,size_slider])])\n",
    "\n",
    "vb_additional = widget.VBox([vb_bimodal,vb_distance,vb_size])\n",
    "############################################################\n",
    "\n",
    "acc_phases = widget.Accordion(children=[hb_phases],selected_index=None)\n",
    "acc_additional = widget.Accordion(children=[vb_additional],selected_index=None)\n",
    "acc_phases.set_title(0,\"Precipitate and Matrix phases\")\n",
    "acc_additional.set_title(0,\"Additional Settings\")\n",
    "display(widget.VBox([acc_phases,acc_additional]))\n",
    "start = widget.Button(description=\"Start\",style={\"button_color\":\"orange\"})\n",
    "display(start)\n",
    "\n",
    "output = widget.Output()\n",
    "\n",
    "#Start the calculation when the button is pressed\n",
    "@output.capture()\n",
    "def on_button_clicked(b):\n",
    "    nofile = widget.HTML(\"<font color=red><b>Please select a file!</b></font>\")\n",
    "    if uploader.value:\n",
    "        nofile.layout.display = 'none'\n",
    "        #ClusterAnalysis (Data from file, Volume of precipitate phase, Volume of matrix phase)\n",
    "        clear_output(wait=True)\n",
    "        file_data = ccm.open_file(uploader)\n",
    "        ca = ClusterAnalysis(file_data,phase_list.iloc[phase.index]['volume'],matrix_list.iloc[matrix.index]['volume'])\n",
    "        threshold_value = bimodal_value.value if (is_bimodal.value and bimodal_value.value) else 0\n",
    "        display(HTML(ca.cluster_calc(threshold_value)))\n",
    "        if is_distance.value:\n",
    "            %matplotlib ipympl\n",
    "            display(HTML(calculate_mean_distance(file_data)))\n",
    "        if is_sizedist.value and size_slider.value:\n",
    "            %matplotlib ipympl\n",
    "            ca.plot_statistics(size_slider.value)\n",
    "    else:\n",
    "        display(nofile)\n",
    "        \n",
    "\n",
    "    \n",
    "start.on_click(on_button_clicked)\n",
    "display(output)"
   ]
  },
  {
   "cell_type": "code",
   "execution_count": null,
   "id": "4944d712-6668-4ca2-9eae-3d33dd12e227",
   "metadata": {},
   "outputs": [],
   "source": []
  }
 ],
 "metadata": {
  "kernelspec": {
   "display_name": "Python 3",
   "language": "python",
   "name": "python3"
  },
  "language_info": {
   "codemirror_mode": {
    "name": "ipython",
    "version": 3
   },
   "file_extension": ".py",
   "mimetype": "text/x-python",
   "name": "python",
   "nbconvert_exporter": "python",
   "pygments_lexer": "ipython3",
   "version": "3.8.10"
  }
 },
 "nbformat": 4,
 "nbformat_minor": 5
}
