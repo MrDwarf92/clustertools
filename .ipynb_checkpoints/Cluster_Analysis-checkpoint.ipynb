{
 "cells": [
  {
   "cell_type": "markdown",
   "id": "aa8390a6-32f5-4b66-80af-51bfdf0be664",
   "metadata": {},
   "source": [
    "# Cluster analysis tool\n",
    "Author: Stefan Zeisl, Version: 1.2.0\n",
    "\n",
    "This tool allows you to select a CSV file from an IVAS cluster analysis export and perform a cluster analysis!\n",
    "\n",
    "### Step 1: Select file\n",
    "It is important that each file only contains ONE type of precipiate. Otherwise the calculations will be wrong."
   ]
  },
  {
   "cell_type": "code",
   "execution_count": 2,
   "id": "53e6e991-d2f2-4bd0-8b59-f975c52337ac",
   "metadata": {
    "tags": []
   },
   "outputs": [
    {
     "name": "stdout",
     "output_type": "stream",
     "text": [
      "Looking for files...\n",
      "\n"
     ]
    },
    {
     "data": {
      "application/vnd.jupyter.widget-view+json": {
       "model_id": "ddac5b7c751f417f8cbe16194c91fa12",
       "version_major": 2,
       "version_minor": 0
      },
      "text/plain": [
       "Select(description='Pick a file:', layout=Layout(width='max-content'), options=('/drives/daten/PhD/Maraging St…"
      ]
     },
     "metadata": {},
     "output_type": "display_data"
    }
   ],
   "source": [
    "from filecrawler import FileCrawler\n",
    "import cluster_analysis_base\n",
    "import ipywidgets as widget\n",
    "from IPython.core.display import display, HTML\n",
    "import matplotlib.pyplot as plt\n",
    "\n",
    "fc = FileCrawler(\"cluster\")\n",
    "file_list = fc.get_file_list()\n",
    "\n",
    "style = {'description_width':'auto'}\n",
    "layout={'width': 'max-content'}\n",
    "file_sel = widget.Select(options=file_list,disabled=False,description='Pick a file:',style=style, layout=layout,rows=20)\n",
    "display(ﬁle_sel)"
   ]
  },
  {
   "cell_type": "markdown",
   "id": "f70f528c-b69d-4e16-a6de-866d2f115cfb",
   "metadata": {},
   "source": [
    "### Step 2: User input\n",
    "\n",
    "The script needs some information about your measurement and your specimen to perform the calculations.\n",
    "\n",
    "1. Volume of your reconstructed tip\n",
    "2. Type of intermetallic phase (currently limited to $\\beta-NiAl$ and $\\eta-Ni_3Ti$ )\n",
    "\n",
    "Alternatively to 2 you can use the volume of the unit cell of your precipitate phase and the number of atoms per unit cell as input. (ToDo)"
   ]
  },
  {
   "cell_type": "code",
   "execution_count": 12,
   "id": "f7996b37",
   "metadata": {},
   "outputs": [
    {
     "data": {
      "application/vnd.jupyter.widget-view+json": {
       "model_id": "4119e4d7e17f42aab9875fa59e1b8bd8",
       "version_major": 2,
       "version_minor": 0
      },
      "text/plain": [
       "VBox(children=(FloatText(value=500000.0, description='Volume of the reconstruction in nm$^3$', style=Descripti…"
      ]
     },
     "metadata": {},
     "output_type": "display_data"
    }
   ],
   "source": [
    "style = {'description_width':'stretch'}\n",
    "volume = widget.FloatText(description=r'Volume of the reconstruction in nm$^3$',value=500000,style=style)\n",
    "\n",
    "phase=widget.RadioButtons(options=[\"beta-NiAl\",\"eta-Ni3Ti\",\"other\"],disabled=False,description='Phase:')\n",
    "other_va=widget.FloatText(description=r'If other: Volume per atom:',value=0,style=style)\n",
    "box1 = widget.HBox([phase, other_va])\n",
    "\n",
    "is_bimodal = widget.Checkbox(description=\"Separate results? (for bimodal size distributions)\",value=False,disabled=False,style=style)\n",
    "bimodal_value = widget.FloatSlider(description=\"Diameter separation value\",min=0,max=50,disabled=False,style=style)\n",
    "box2 = widget.HBox([is_bimodal, bimodal_value])\n",
    "\n",
    "box_all = widget.VBox([volume, box1, box2])\n",
    "display(box_all)\n",
    "\n",
    "\n"
   ]
  },
  {
   "cell_type": "markdown",
   "id": "e8b638a3-7ba2-439b-adca-9b498ec01160",
   "metadata": {},
   "source": [
    "### Step 3: Calculate precipitate statistics\n",
    "Just press run!"
   ]
  },
  {
   "cell_type": "code",
   "execution_count": 12,
   "id": "9e204143-84f7-4f67-a0a5-63804235280e",
   "metadata": {},
   "outputs": [
    {
     "data": {
      "text/html": [
       "<h2>Precipitates >= 6.7</h2>Cluster statistics:<table border=0 width=auto><tr><td>Number of ions </td><td>447376.0</tr><tr><td>Number of clusters</td><td>170</tr><tr><td>Volume fraction of clusters [%]</td><td>2.69</tr><tr><td>Number density [m^-3]</td><td>3.16e+23</tr><tr><td>Equivalent spherical diameter [nm]</td><td>8.21</tr><tr><td>Mean length [nm]</td><td>12.22</tr><tr><td>Cylindrical diameter [nm]</td><td>5.55</tr></table><h2>Precipitates <6.7</h2>Cluster statistics:<table border=0 width=auto><tr><td>Number of ions </td><td>612412.0</tr><tr><td>Number of clusters</td><td>657</tr><tr><td>Volume fraction of clusters [%]</td><td>3.68</tr><tr><td>Number density [m^-3]</td><td>1.22e+24</tr><tr><td>Equivalent spherical diameter [nm]</td><td>5.26</tr><tr><td>Mean length [nm]</td><td>7.02</tr><tr><td>Cylindrical diameter [nm]</td><td>3.76</tr></table><h2>All precipitates</h2>Cluster statistics:<table border=0 width=auto><tr><td>Number of ions </td><td>612412.0</tr><tr><td>Number of clusters</td><td>657</tr><tr><td>Volume fraction of clusters [%]</td><td>3.68</tr><tr><td>Number density [m^-3]</td><td>1.22e+24</tr><tr><td>Equivalent spherical diameter [nm]</td><td>5.26</tr><tr><td>Mean length [nm]</td><td>7.02</tr><tr><td>Cylindrical diameter [nm]</td><td>3.76</tr></table>"
      ],
      "text/plain": [
       "<IPython.core.display.HTML object>"
      ]
     },
     "metadata": {},
     "output_type": "display_data"
    },
    {
     "data": {
      "application/vnd.jupyter.widget-view+json": {
       "model_id": "2a6cddd42e194d3b9c9e47e09efbbe76",
       "version_major": 2,
       "version_minor": 0
      },
      "text/plain": [
       "Canvas(toolbar=Toolbar(toolitems=[('Home', 'Reset original view', 'home', 'home'), ('Back', 'Back to previous …"
      ]
     },
     "metadata": {},
     "output_type": "display_data"
    },
    {
     "name": "stdout",
     "output_type": "stream",
     "text": [
      "Mean distance of precipitates (surface-to-surface); 0.6467; 1.5195\n",
      "Mean distance of precipitates (centers); 6.4292; 1.1565\n",
      "Finished 'calculate_mean_distance' in 0.4867 s\n"
     ]
    }
   ],
   "source": [
    "from distance import calculate_mean_distance, plot_dist_statistics\n",
    "from optional_analysis import plot_statistics, chemical_analysis\n",
    "file_selection = file_sel.index\n",
    "filepath = file_list[file_selection]\n",
    "\n",
    "if is_bimodal.value:\n",
    "    cluster_ss, cluster_data, output = cluster_analysis_base.cluster_calc(filepath,volume.value,phase.index,threshold=bimodal_value.value)\n",
    "else:\n",
    "    cluster_ss, cluster_data, output = cluster_analysis_base.cluster_calc(filepath,volume.value,phase.index)\n",
    "\n",
    "display(HTML(output))\n",
    "%matplotlib ipympl\n",
    "distance_list = calculate_mean_distance(filepath)"
   ]
  },
  {
   "cell_type": "markdown",
   "id": "874db62f-1f7b-4a79-bbbc-6be2c763d9e0",
   "metadata": {},
   "source": [
    "### Additional stuff"
   ]
  },
  {
   "cell_type": "code",
   "execution_count": 11,
   "id": "fa6f8af4-89c6-4e23-b2fc-5476ecd31b22",
   "metadata": {},
   "outputs": [
    {
     "data": {
      "application/vnd.jupyter.widget-view+json": {
       "model_id": "ec50e18c7e694b48b13ea7540cb84a06",
       "version_major": 2,
       "version_minor": 0
      },
      "text/plain": [
       "Canvas(toolbar=Toolbar(toolitems=[('Home', 'Reset original view', 'home', 'home'), ('Back', 'Back to previous …"
      ]
     },
     "metadata": {},
     "output_type": "display_data"
    },
    {
     "data": {
      "application/vnd.jupyter.widget-view+json": {
       "model_id": "adffce4e121b48ed8af80cb4dedb993d",
       "version_major": 2,
       "version_minor": 0
      },
      "text/plain": [
       "Canvas(toolbar=Toolbar(toolitems=[('Home', 'Reset original view', 'home', 'home'), ('Back', 'Back to previous …"
      ]
     },
     "metadata": {},
     "output_type": "display_data"
    }
   ],
   "source": [
    "%matplotlib ipympl\n",
    "bins=40\n",
    "plot_statistics(cluster_ss,bins)\n",
    "fig=plot_dist_statistics(distance_list,bins)"
   ]
  },
  {
   "cell_type": "code",
   "execution_count": null,
   "id": "4944d712-6668-4ca2-9eae-3d33dd12e227",
   "metadata": {},
   "outputs": [],
   "source": []
  }
 ],
 "metadata": {
  "kernelspec": {
   "display_name": "Python 3",
   "language": "python",
   "name": "python3"
  },
  "language_info": {
   "codemirror_mode": {
    "name": "ipython",
    "version": 3
   },
   "file_extension": ".py",
   "mimetype": "text/x-python",
   "name": "python",
   "nbconvert_exporter": "python",
   "pygments_lexer": "ipython3",
   "version": "3.8.10"
  }
 },
 "nbformat": 4,
 "nbformat_minor": 5
}
