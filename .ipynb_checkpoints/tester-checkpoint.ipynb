{
 "cells": [
  {
   "cell_type": "markdown",
   "id": "aa8390a6-32f5-4b66-80af-51bfdf0be664",
   "metadata": {},
   "source": [
    "# Cluster analysis tool\n",
    "Author: Stefan Zeisl, Version: 1.2.0\n",
    "\n",
    "This tool allows you to select a CSV file from an IVAS cluster analysis export and perform a cluster analysis!\n",
    "\n",
    "### Step 1: Select file\n",
    "It is important that each file only contains ONE type of precipiate. Otherwise the calculations will be wrong."
   ]
  },
  {
   "cell_type": "code",
   "execution_count": 1,
   "id": "53e6e991-d2f2-4bd0-8b59-f975c52337ac",
   "metadata": {
    "tags": []
   },
   "outputs": [],
   "source": [
    "from filecrawler import FileCrawler\n",
    "import cluster_analysis_base\n",
    "import ipywidgets as widget\n",
    "import matplotlib.pyplot as plt\n",
    "\n",
    "filepath = '/drives/daten/PhD/Maraging Steels/lab wave 2/TAC2-2/voltage-1/data/Al4NN_0.6_cluster.csv'"
   ]
  },
  {
   "cell_type": "code",
   "execution_count": 2,
   "id": "9e204143-84f7-4f67-a0a5-63804235280e",
   "metadata": {},
   "outputs": [
    {
     "name": "stdout",
     "output_type": "stream",
     "text": [
      "Finished 'calculate_mean_distance' in 0.0163 s\n"
     ]
    }
   ],
   "source": [
    "from distance import calculate_mean_distance, plot_dist_statistics\n",
    "from optional_analysis import plot_statistics, chemical_analysis\n",
    "\n",
    "%matplotlib ipympl\n",
    "\n",
    "distances = calculate_mean_distance(filepath)\n"
   ]
  },
  {
   "cell_type": "code",
   "execution_count": null,
   "id": "d1ebae97-2168-4242-aa5e-50a606d82256",
   "metadata": {},
   "outputs": [],
   "source": []
  }
 ],
 "metadata": {
  "kernelspec": {
   "display_name": "Python 3",
   "language": "python",
   "name": "python3"
  },
  "language_info": {
   "codemirror_mode": {
    "name": "ipython",
    "version": 3
   },
   "file_extension": ".py",
   "mimetype": "text/x-python",
   "name": "python",
   "nbconvert_exporter": "python",
   "pygments_lexer": "ipython3",
   "version": "3.8.5"
  }
 },
 "nbformat": 4,
 "nbformat_minor": 5
}
