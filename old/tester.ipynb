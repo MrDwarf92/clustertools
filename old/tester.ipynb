{
 "cells": [
  {
   "cell_type": "markdown",
   "id": "aa8390a6-32f5-4b66-80af-51bfdf0be664",
   "metadata": {},
   "source": [
    "# Cluster analysis tool\n",
    "Author: Stefan Zeisl, Version: 1.2.0\n",
    "\n",
    "This tool allows you to select a CSV file from an IVAS cluster analysis export and perform a cluster analysis!\n",
    "\n",
    "### Step 1: Select file\n",
    "It is important that each file only contains ONE type of precipiate. Otherwise the calculations will be wrong."
   ]
  },
  {
   "cell_type": "code",
   "execution_count": 3,
   "id": "53e6e991-d2f2-4bd0-8b59-f975c52337ac",
   "metadata": {
    "tags": []
   },
   "outputs": [
    {
     "data": {
      "application/vnd.jupyter.widget-view+json": {
       "model_id": "bf518cfdfcf34661a0004e66b5ce202e",
       "version_major": 2,
       "version_minor": 0
      },
      "text/plain": [
       "FileUpload(value={}, accept='.csv', description='Upload a CSV file with cluster analysis data: ', layout=Layou…"
      ]
     },
     "metadata": {},
     "output_type": "display_data"
    },
    {
     "name": "stderr",
     "output_type": "stream",
     "text": [
      "/home/stefan/.local/lib/python3.8/site-packages/traitlets/traitlets.py:586: FutureWarning: elementwise comparison failed; returning scalar instead, but in the future will perform elementwise comparison\n",
      "  silent = bool(old_value == new_value)\n"
     ]
    },
    {
     "data": {
      "application/vnd.jupyter.widget-view+json": {
       "model_id": "d5a5b2e02690434d9377fec5cc3e7112",
       "version_major": 2,
       "version_minor": 0
      },
      "text/plain": [
       "VBox(children=(Accordion(children=(HBox(children=(VBox(children=(Label(value='Precipitate phase'), Dropdown(op…"
      ]
     },
     "metadata": {},
     "output_type": "display_data"
    },
    {
     "data": {
      "application/vnd.jupyter.widget-view+json": {
       "model_id": "e14f5cecb2ac4e648690e5a2a773185c",
       "version_major": 2,
       "version_minor": 0
      },
      "text/plain": [
       "Button(description='Start', style=ButtonStyle(button_color='orange'))"
      ]
     },
     "metadata": {},
     "output_type": "display_data"
    },
    {
     "data": {
      "application/vnd.jupyter.widget-view+json": {
       "model_id": "c3c9f641be72438a9f641dd14383c9b1",
       "version_major": 2,
       "version_minor": 0
      },
      "text/plain": [
       "Output()"
      ]
     },
     "metadata": {},
     "output_type": "display_data"
    }
   ],
   "source": [
    "import ipywidgets as widget\n",
    "from IPython.core.display import display, HTML, clear_output\n",
    "import numpy as np\n",
    "from main import ClusterCalcMain\n",
    "from cluster_analysis_base import ClusterAnalysis\n",
    "from distance import calculate_mean_distance\n",
    "\n",
    "style = {'description_width':'auto'}\n",
    "layout={'width': 'auto'}\n",
    "uploader = widget.FileUpload(description=\"Upload a CSV file with cluster analysis data: \",accept='.csv',style=style,layout=layout,multiple=False)\n",
    "ccm = ClusterCalcMain()\n",
    "display(uploader)\n",
    "\n",
    "abc = np.array([r\"$\\gamma$\",r\"$\\beta$\"])\n",
    "\n",
    "###############Precipiate and Matrix phase UI###############\n",
    "style = {'description_width':'initial'}\n",
    "\n",
    "#Filling up\n",
    "matrix_list = ccm.get_matrix_list()\n",
    "matrix = widget.Dropdown(options=abc)\n",
    "phase_list = ccm.get_phase_list()\n",
    "phase = widget.Dropdown(options=phase_list['Display'])\n",
    "\n",
    "#Boxes\n",
    "vb_matrix = widget.VBox([widget.Label(\"Matrix phase\"), matrix])\n",
    "vb_phase = widget.VBox([widget.Label(\"Precipitate phase\"), phase])\n",
    "hb_phases = widget.HBox([vb_phase, vb_matrix])\n",
    "############################################################\n",
    "\n",
    "###############Additional settings UI#######################\n",
    "is_bimodal = widget.Checkbox(description=\"Separate results?\",value=False, disabled=False,style=style)\n",
    "bimodal_value = widget.FloatSlider(description=\"Diameter separation value\",min=0,max=50,disabled=False,style=style,layout={'width':'35em'})\n",
    "vb_bimodal = widget.VBox([widget.HTML(\"<b>Separate by diameter</b>\"), widget.Label(\"Allows you to calculate two different statistics separated by precipitate diameter (for bimodal distributions):\"), \n",
    "                          widget.HBox([is_bimodal, bimodal_value])])\n",
    "is_distance = widget.Checkbox(description=\"Calculate inter-precipitate distance?\",value=False, disabled=False,style=style)\n",
    "vb_distance = widget.VBox([widget.HTML(\"<b>Inter-precipitate distance</b>\"),widget.Label(\"Allows you to calculate the mean distance between the precipitates. This feature is still experimental and may produce incorrect results, especially if clusters are \\\"touching\\\" each other.\"),is_distance])\n",
    "vb_additional = widget.VBox([vb_bimodal,vb_distance])\n",
    "############################################################\n",
    "\n",
    "acc_phases = widget.Accordion(children=[hb_phases],selected_index=None)\n",
    "acc_additional = widget.Accordion(children=[vb_additional],selected_index=None)\n",
    "acc_phases.set_title(0,\"Precipitate and Matrix phases\")\n",
    "acc_additional.set_title(0,\"Additional Settings\")\n",
    "display(widget.VBox([acc_phases,acc_additional]))\n",
    "start = widget.Button(description=\"Start\",style={\"button_color\":\"orange\"})\n",
    "display(start)\n",
    "\n",
    "output = widget.Output()\n",
    "\n",
    "@output.capture()\n",
    "def on_button_clicked(b):\n",
    "    #ClusterAnalysis (Data from file, Volume of precipitate phase, Volume of matrix phase)\n",
    "    clear_output(wait=True)\n",
    "    file_data = ccm.open_file(uploader)\n",
    "    ca = ClusterAnalysis(file_data,phase_list.iloc[phase.index]['volume'],matrix_list.iloc[matrix.index]['volume'])\n",
    "    threshold_value = bimodal_value.value if (is_bimodal.value and bimodal_value.value) else 0\n",
    "    display(HTML(ca.cluster_calc(threshold_value)))\n",
    "    if is_distance.value:\n",
    "        %matplotlib ipympl\n",
    "        display(HTML(calculate_mean_distance(file_data)))\n",
    "\n",
    "    \n",
    "start.on_click(on_button_clicked)\n",
    "display(output)"
   ]
  },
  {
   "cell_type": "code",
   "execution_count": null,
   "id": "d1ebae97-2168-4242-aa5e-50a606d82256",
   "metadata": {},
   "outputs": [],
   "source": []
  },
  {
   "cell_type": "code",
   "execution_count": null,
   "id": "c056e0c2-d6ae-49d1-96a7-b436263b0c88",
   "metadata": {},
   "outputs": [],
   "source": []
  }
 ],
 "metadata": {
  "kernelspec": {
   "display_name": "Python 3",
   "language": "python",
   "name": "python3"
  },
  "language_info": {
   "codemirror_mode": {
    "name": "ipython",
    "version": 3
   },
   "file_extension": ".py",
   "mimetype": "text/x-python",
   "name": "python",
   "nbconvert_exporter": "python",
   "pygments_lexer": "ipython3",
   "version": "3.8.10"
  }
 },
 "nbformat": 4,
 "nbformat_minor": 5
}
