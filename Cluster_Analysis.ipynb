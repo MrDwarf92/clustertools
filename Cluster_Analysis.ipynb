{
 "cells": [
  {
   "cell_type": "markdown",
   "id": "aa8390a6-32f5-4b66-80af-51bfdf0be664",
   "metadata": {},
   "source": [
    "# Cluster analysis tool\n",
    "Author: Stefan Zeisl, Version: 1.3.0\n",
    "\n",
    "This tool allows you to select a CSV file from an IVAS cluster analysis export and perform a cluster analysis!\n",
    "\n",
    "### Step 1: Select file\n",
    "It is important that each file only contains ONE type of precipiate. Otherwise the calculations will be wrong."
   ]
  },
  {
   "cell_type": "code",
   "execution_count": 1,
   "id": "53e6e991-d2f2-4bd0-8b59-f975c52337ac",
   "metadata": {
    "tags": []
   },
   "outputs": [
    {
     "name": "stdout",
     "output_type": "stream",
     "text": [
      "Looking for files...\n",
      "\n"
     ]
    },
    {
     "data": {
      "application/vnd.jupyter.widget-view+json": {
       "model_id": "8b1edb5255984371adf078594757aaa1",
       "version_major": 2,
       "version_minor": 0
      },
      "text/plain": [
       "Select(description='Pick a file:', layout=Layout(width='max-content'), options=('/drives/daten/PhD/Maraging St…"
      ]
     },
     "metadata": {},
     "output_type": "display_data"
    }
   ],
   "source": [
    "from filecrawler import FileCrawler\n",
    "import cluster_analysis_base\n",
    "import ipywidgets as widget\n",
    "from IPython.core.display import display, HTML\n",
    "import matplotlib.pyplot as plt\n",
    "\n",
    "fc = FileCrawler(\"cluster\")\n",
    "file_list = fc.get_file_list()\n",
    "\n",
    "style = {'description_width':'auto'}\n",
    "layout={'width': 'max-content'}\n",
    "file_sel = widget.Select(options=file_list,disabled=False,description='Pick a file:',style=style, layout=layout,rows=20)\n",
    "display(ﬁle_sel)"
   ]
  },
  {
   "cell_type": "markdown",
   "id": "f70f528c-b69d-4e16-a6de-866d2f115cfb",
   "metadata": {},
   "source": [
    "### Step 2: User input\n",
    "\n",
    "The script needs some information about your measurement and your specimen to perform the calculations.\n",
    "\n",
    "1. Volume of your reconstructed tip\n",
    "2. Type of intermetallic phase (currently limited to $\\beta-NiAl$ and $\\eta-Ni_3Ti$ )\n",
    "\n",
    "Alternatively to 2 you can use the volume of the unit cell of your precipitate phase and the number of atoms per unit cell as input. (ToDo)"
   ]
  },
  {
   "cell_type": "code",
   "execution_count": 2,
   "id": "f7996b37",
   "metadata": {},
   "outputs": [
    {
     "data": {
      "application/vnd.jupyter.widget-view+json": {
       "model_id": "bb2c2470a7234207bb4e7d59274ca46f",
       "version_major": 2,
       "version_minor": 0
      },
      "text/plain": [
       "VBox(children=(FloatText(value=500000.0, description='Volume of the reconstruction in nm$^3$', style=Descripti…"
      ]
     },
     "metadata": {},
     "output_type": "display_data"
    }
   ],
   "source": [
    "style = {'description_width':'stretch'}\n",
    "volume = widget.FloatText(description=r'Volume of the reconstruction in nm$^3$',value=500000,style=style)\n",
    "\n",
    "phase=widget.RadioButtons(options=[\"beta-NiAl\",\"eta-Ni3Ti\",\"other\"],disabled=False,description='Phase:')\n",
    "other_va=widget.FloatText(description=r'If other: Volume per atom:',value=0,style=style)\n",
    "box1 = widget.HBox([phase, other_va])\n",
    "\n",
    "is_bimodal = widget.Checkbox(description=\"Separate results? (for bimodal size distributions)\",value=False,disabled=False,style=style)\n",
    "bimodal_value = widget.FloatSlider(description=\"Diameter separation value\",min=0,max=50,disabled=False,style=style)\n",
    "box2 = widget.HBox([is_bimodal, bimodal_value])\n",
    "\n",
    "box_all = widget.VBox([volume, box1, box2])\n",
    "display(box_all)\n",
    "\n",
    "\n"
   ]
  },
  {
   "cell_type": "markdown",
   "id": "e8b638a3-7ba2-439b-adca-9b498ec01160",
   "metadata": {},
   "source": [
    "### Step 3: Calculate precipitate statistics\n",
    "Just press run!"
   ]
  },
  {
   "cell_type": "code",
   "execution_count": 3,
   "id": "9e204143-84f7-4f67-a0a5-63804235280e",
   "metadata": {},
   "outputs": [
    {
     "data": {
      "text/html": [
       "Cluster statistics:<table border=0 width=auto><tr><td>Number of ions </td><td>236556</tr><tr><td>Number of clusters</td><td>5</tr><tr><td>Volume fraction of clusters [%]</td><td>0.46</tr><tr><td>Number density [m^-3]</td><td>3.07e+21</tr><tr><td>Equivalent spherical diameter [nm]</td><td>30.59</tr><tr><td>Mean length [nm]</td><td>65.48</tr><tr><td>Cylindrical diameter [nm]</td><td>17.24</tr></table>"
      ],
      "text/plain": [
       "<IPython.core.display.HTML object>"
      ]
     },
     "metadata": {},
     "output_type": "display_data"
    },
    {
     "ename": "ValueError",
     "evalue": "No points given",
     "output_type": "error",
     "traceback": [
      "\u001b[0;31m---------------------------------------------------------------------------\u001b[0m",
      "\u001b[0;31mValueError\u001b[0m                                Traceback (most recent call last)",
      "\u001b[0;32m<ipython-input-3-4b726117c287>\u001b[0m in \u001b[0;36m<module>\u001b[0;34m\u001b[0m\n\u001b[1;32m     11\u001b[0m \u001b[0mdisplay\u001b[0m\u001b[0;34m(\u001b[0m\u001b[0mHTML\u001b[0m\u001b[0;34m(\u001b[0m\u001b[0moutput\u001b[0m\u001b[0;34m)\u001b[0m\u001b[0;34m)\u001b[0m\u001b[0;34m\u001b[0m\u001b[0;34m\u001b[0m\u001b[0m\n\u001b[1;32m     12\u001b[0m \u001b[0mget_ipython\u001b[0m\u001b[0;34m(\u001b[0m\u001b[0;34m)\u001b[0m\u001b[0;34m.\u001b[0m\u001b[0mrun_line_magic\u001b[0m\u001b[0;34m(\u001b[0m\u001b[0;34m'matplotlib'\u001b[0m\u001b[0;34m,\u001b[0m \u001b[0;34m'ipympl'\u001b[0m\u001b[0;34m)\u001b[0m\u001b[0;34m\u001b[0m\u001b[0;34m\u001b[0m\u001b[0m\n\u001b[0;32m---> 13\u001b[0;31m \u001b[0mdistance_list\u001b[0m \u001b[0;34m=\u001b[0m \u001b[0mcalculate_mean_distance\u001b[0m\u001b[0;34m(\u001b[0m\u001b[0mfilepath\u001b[0m\u001b[0;34m)\u001b[0m\u001b[0;34m\u001b[0m\u001b[0;34m\u001b[0m\u001b[0m\n\u001b[0m",
      "\u001b[0;32m/drives/daten/PhD/Software/lab tools/cluster_calc/distance.py\u001b[0m in \u001b[0;36mwrapper_timer\u001b[0;34m(*args)\u001b[0m\n\u001b[1;32m     18\u001b[0m     \u001b[0;32mdef\u001b[0m \u001b[0mwrapper_timer\u001b[0m\u001b[0;34m(\u001b[0m\u001b[0;34m*\u001b[0m\u001b[0margs\u001b[0m\u001b[0;34m)\u001b[0m\u001b[0;34m:\u001b[0m\u001b[0;34m\u001b[0m\u001b[0;34m\u001b[0m\u001b[0m\n\u001b[1;32m     19\u001b[0m         \u001b[0mstart_time\u001b[0m \u001b[0;34m=\u001b[0m \u001b[0mtime\u001b[0m\u001b[0;34m.\u001b[0m\u001b[0mperf_counter\u001b[0m\u001b[0;34m(\u001b[0m\u001b[0;34m)\u001b[0m\u001b[0;34m\u001b[0m\u001b[0;34m\u001b[0m\u001b[0m\n\u001b[0;32m---> 20\u001b[0;31m         \u001b[0mvalue\u001b[0m \u001b[0;34m=\u001b[0m \u001b[0mfunc\u001b[0m\u001b[0;34m(\u001b[0m\u001b[0;34m*\u001b[0m\u001b[0margs\u001b[0m\u001b[0;34m)\u001b[0m\u001b[0;34m\u001b[0m\u001b[0;34m\u001b[0m\u001b[0m\n\u001b[0m\u001b[1;32m     21\u001b[0m         \u001b[0mend_time\u001b[0m \u001b[0;34m=\u001b[0m \u001b[0mtime\u001b[0m\u001b[0;34m.\u001b[0m\u001b[0mperf_counter\u001b[0m\u001b[0;34m(\u001b[0m\u001b[0;34m)\u001b[0m\u001b[0;34m\u001b[0m\u001b[0;34m\u001b[0m\u001b[0m\n\u001b[1;32m     22\u001b[0m         \u001b[0mrun_time\u001b[0m \u001b[0;34m=\u001b[0m \u001b[0mend_time\u001b[0m\u001b[0;34m-\u001b[0m\u001b[0mstart_time\u001b[0m\u001b[0;34m\u001b[0m\u001b[0;34m\u001b[0m\u001b[0m\n",
      "\u001b[0;32m/drives/daten/PhD/Software/lab tools/cluster_calc/distance.py\u001b[0m in \u001b[0;36mcalculate_mean_distance\u001b[0;34m(filepath)\u001b[0m\n\u001b[1;32m    156\u001b[0m     \u001b[0;31m#return 0\u001b[0m\u001b[0;34m\u001b[0m\u001b[0;34m\u001b[0m\u001b[0;34m\u001b[0m\u001b[0m\n\u001b[1;32m    157\u001b[0m     \u001b[0;31m#Delaunay Triangulation of point list\u001b[0m\u001b[0;34m\u001b[0m\u001b[0;34m\u001b[0m\u001b[0;34m\u001b[0m\u001b[0m\n\u001b[0;32m--> 158\u001b[0;31m     \u001b[0mtri\u001b[0m \u001b[0;34m=\u001b[0m \u001b[0mDelaunay\u001b[0m\u001b[0;34m(\u001b[0m\u001b[0mpoints\u001b[0m\u001b[0;34m)\u001b[0m\u001b[0;34m\u001b[0m\u001b[0;34m\u001b[0m\u001b[0m\n\u001b[0m\u001b[1;32m    159\u001b[0m     \u001b[0mvertices\u001b[0m \u001b[0;34m=\u001b[0m \u001b[0mcreate_vertex_list\u001b[0m\u001b[0;34m(\u001b[0m\u001b[0mtri\u001b[0m\u001b[0;34m.\u001b[0m\u001b[0msimplices\u001b[0m\u001b[0;34m)\u001b[0m\u001b[0;34m\u001b[0m\u001b[0;34m\u001b[0m\u001b[0m\n\u001b[1;32m    160\u001b[0m     \u001b[0mdistance_list\u001b[0m \u001b[0;34m=\u001b[0m \u001b[0mcreate_distance_list\u001b[0m\u001b[0;34m(\u001b[0m\u001b[0mpoints\u001b[0m\u001b[0;34m,\u001b[0m\u001b[0mvertices\u001b[0m\u001b[0;34m,\u001b[0m\u001b[0mvolumes_all\u001b[0m\u001b[0;34m)\u001b[0m\u001b[0;34m\u001b[0m\u001b[0;34m\u001b[0m\u001b[0m\n",
      "\u001b[0;32mqhull.pyx\u001b[0m in \u001b[0;36mscipy.spatial.qhull.Delaunay.__init__\u001b[0;34m()\u001b[0m\n",
      "\u001b[0;32mqhull.pyx\u001b[0m in \u001b[0;36mscipy.spatial.qhull._Qhull.__init__\u001b[0;34m()\u001b[0m\n",
      "\u001b[0;31mValueError\u001b[0m: No points given"
     ]
    }
   ],
   "source": [
    "from distance import calculate_mean_distance, plot_dist_statistics\n",
    "from optional_analysis import plot_statistics, chemical_analysis\n",
    "file_selection = file_sel.index\n",
    "filepath = file_list[file_selection]\n",
    "\n",
    "if is_bimodal.value:\n",
    "    cluster_ss, cluster_data, output = cluster_analysis_base.cluster_calc(filepath,volume.value,phase.index,other_va.value,threshold=bimodal_value.value)\n",
    "else:\n",
    "    cluster_ss, cluster_data, output = cluster_analysis_base.cluster_calc(filepath,volume.value,phase.index,other_va.value)\n",
    "\n",
    "display(HTML(output))\n",
    "%matplotlib ipympl\n",
    "distance_list = calculate_mean_distance(filepath)"
   ]
  },
  {
   "cell_type": "markdown",
   "id": "874db62f-1f7b-4a79-bbbc-6be2c763d9e0",
   "metadata": {},
   "source": [
    "### Additional stuff"
   ]
  },
  {
   "cell_type": "code",
   "execution_count": 6,
   "id": "fa6f8af4-89c6-4e23-b2fc-5476ecd31b22",
   "metadata": {},
   "outputs": [
    {
     "data": {
      "application/vnd.jupyter.widget-view+json": {
       "model_id": "ba94fa4de33e437988c813312228c4e3",
       "version_major": 2,
       "version_minor": 0
      },
      "text/plain": [
       "Canvas(toolbar=Toolbar(toolitems=[('Home', 'Reset original view', 'home', 'home'), ('Back', 'Back to previous …"
      ]
     },
     "metadata": {},
     "output_type": "display_data"
    },
    {
     "data": {
      "application/vnd.jupyter.widget-view+json": {
       "model_id": "204527ca701448ad8140c090306aa1e0",
       "version_major": 2,
       "version_minor": 0
      },
      "text/plain": [
       "Canvas(toolbar=Toolbar(toolitems=[('Home', 'Reset original view', 'home', 'home'), ('Back', 'Back to previous …"
      ]
     },
     "metadata": {},
     "output_type": "display_data"
    }
   ],
   "source": [
    "%matplotlib ipympl\n",
    "bins=40\n",
    "plot_statistics(cluster_ss,bins)\n",
    "fig=plot_dist_statistics(distance_list,bins)"
   ]
  },
  {
   "cell_type": "code",
   "execution_count": null,
   "id": "4944d712-6668-4ca2-9eae-3d33dd12e227",
   "metadata": {},
   "outputs": [],
   "source": []
  }
 ],
 "metadata": {
  "kernelspec": {
   "display_name": "Python 3",
   "language": "python",
   "name": "python3"
  },
  "language_info": {
   "codemirror_mode": {
    "name": "ipython",
    "version": 3
   },
   "file_extension": ".py",
   "mimetype": "text/x-python",
   "name": "python",
   "nbconvert_exporter": "python",
   "pygments_lexer": "ipython3",
   "version": "3.8.10"
  }
 },
 "nbformat": 4,
 "nbformat_minor": 5
}
